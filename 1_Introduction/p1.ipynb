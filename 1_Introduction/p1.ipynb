{
 "cells": [
  {
   "cell_type": "markdown",
   "id": "42ebab5d-b6f3-40af-ae21-99aaafbc7e46",
   "metadata": {},
   "source": [
    "# **Eksploracja danych**"
   ]
  },
  {
   "cell_type": "markdown",
   "id": "fb1738b5-1c85-4261-955a-8168487e5d84",
   "metadata": {},
   "source": [
    "## **Projek 1: Wprowadzenie do MatLab**  \n",
    "## Krzysztof Stawarz"
   ]
  },
  {
   "cell_type": "markdown",
   "id": "13abbc1b-5bec-46c8-aaa8-b572b35bbf8b",
   "metadata": {},
   "source": [
    "### **Zadanie 1.**"
   ]
  },
  {
   "cell_type": "markdown",
   "id": "e2341c63-0971-4f59-b3e1-8a920cdd5921",
   "metadata": {},
   "source": [
    "Określ macierz *A* jako macierz kwadratową wymiaru $n = 10$ wypełniając ją losowymi cyframi."
   ]
  },
  {
   "cell_type": "code",
   "execution_count": 1,
   "id": "4562755b-7045-4470-b040-80cbe7f95d67",
   "metadata": {},
   "outputs": [],
   "source": [
    "n = 10;"
   ]
  },
  {
   "cell_type": "code",
   "execution_count": 2,
   "id": "07d85066-539b-4caf-a97c-3f886238d390",
   "metadata": {},
   "outputs": [
    {
     "name": "stdout",
     "output_type": "stream",
     "text": [
      "\n",
      "A =\n",
      "\n",
      "     8     1     6     7     4     2     7     8     3     0\n",
      "     9     9     0     0     3     6     2     2     8     0\n",
      "     1     9     8     2     7     6     5     8     5     5\n",
      "     9     4     9     0     7     1     6     2     5     7\n",
      "     6     8     6     0     1     1     8     9     9     9\n",
      "     0     1     7     8     4     4     9     3     2     1\n",
      "     2     4     7     6     4     9     5     1     7     5\n",
      "     5     9     3     3     6     3     1     2     7     4\n",
      "     9     7     6     9     7     5     1     6     3     0\n",
      "     9     9     1     0     7     2     2     4     5     3\n",
      "\n"
     ]
    }
   ],
   "source": [
    "A = floor(rand(n, n)*9.999)"
   ]
  },
  {
   "cell_type": "code",
   "execution_count": 3,
   "id": "ed92520a-698e-4f89-a18b-6065b81f5dea",
   "metadata": {},
   "outputs": [
    {
     "name": "stdout",
     "output_type": "stream",
     "text": [
      "\n",
      "ans =\n",
      "\n",
      "    10    10\n",
      "\n"
     ]
    }
   ],
   "source": [
    "size(A)"
   ]
  },
  {
   "cell_type": "markdown",
   "id": "be35c8b5-5937-45a9-aa25-0aa10ebaf12d",
   "metadata": {},
   "source": [
    "Następnie zlicz ile razy wystąpiła cyfra $7$."
   ]
  },
  {
   "cell_type": "code",
   "execution_count": 4,
   "id": "a43c6b1b-a439-464e-95c8-a44513290fed",
   "metadata": {},
   "outputs": [
    {
     "name": "stdout",
     "output_type": "stream",
     "text": [
      "\n",
      "how_many_sevens =\n",
      "\n",
      "    12\n",
      "\n"
     ]
    }
   ],
   "source": [
    "how_many_sevens = sum(A==7, 'all')"
   ]
  },
  {
   "cell_type": "markdown",
   "id": "cee35319-0e01-41cf-9e3e-5c69d5639ba4",
   "metadata": {},
   "source": [
    "Oraz ile razy wystąpiły cyfry z przedziału $[2, 4]$."
   ]
  },
  {
   "cell_type": "code",
   "execution_count": 5,
   "id": "1c0adc0e-4d6b-4231-a93a-5c81ff338806",
   "metadata": {},
   "outputs": [
    {
     "name": "stdout",
     "output_type": "stream",
     "text": [
      "\n",
      "between_two_and_four =\n",
      "\n",
      "    26\n",
      "\n"
     ]
    }
   ],
   "source": [
    "between_two_and_four = sum(A>=2 & A<=4, 'all')"
   ]
  },
  {
   "cell_type": "markdown",
   "id": "c081128a-6d9e-447c-91a8-1d13430a3cee",
   "metadata": {},
   "source": [
    "### **Zadanie 2.**"
   ]
  },
  {
   "cell_type": "markdown",
   "id": "324398bf-c4fa-414c-860f-483bb4d44e6c",
   "metadata": {},
   "source": [
    "Dla określonej macierzy *A* oblicz wyznacznik macierzy powstałej po wykreśleniu z macierzy *A* 5-tego wiersza i 7-mej kolumny, podstawiając wynik pod zmienną **wyzn**."
   ]
  },
  {
   "cell_type": "code",
   "execution_count": 6,
   "id": "37abed90-6005-4bf9-92c7-7368c594e371",
   "metadata": {},
   "outputs": [
    {
     "name": "stdout",
     "output_type": "stream",
     "text": [
      "\n",
      "A =\n",
      "\n",
      "     8     1     6     7     4     2     8     3     0\n",
      "     9     9     0     0     3     6     2     8     0\n",
      "     1     9     8     2     7     6     8     5     5\n",
      "     9     4     9     0     7     1     2     5     7\n",
      "     0     1     7     8     4     4     3     2     1\n",
      "     2     4     7     6     4     9     1     7     5\n",
      "     5     9     3     3     6     3     2     7     4\n",
      "     9     7     6     9     7     5     6     3     0\n",
      "     9     9     1     0     7     2     4     5     3\n",
      "\n"
     ]
    }
   ],
   "source": [
    "A(5, :) = [];\n",
    "A(:, 7) = []"
   ]
  },
  {
   "cell_type": "code",
   "execution_count": 7,
   "id": "08c4790e-6230-45a5-bdcb-1bfc1ae5d295",
   "metadata": {},
   "outputs": [
    {
     "name": "stdout",
     "output_type": "stream",
     "text": [
      "\n",
      "ans =\n",
      "\n",
      "     9     9\n",
      "\n"
     ]
    }
   ],
   "source": [
    "size(A)"
   ]
  },
  {
   "cell_type": "code",
   "execution_count": 8,
   "id": "f979551e-05a8-48a7-9b64-2644caf58d01",
   "metadata": {},
   "outputs": [
    {
     "name": "stdout",
     "output_type": "stream",
     "text": [
      "\n",
      "wyzn =\n",
      "\n",
      "  -1.1640e+07\n",
      "\n"
     ]
    }
   ],
   "source": [
    "wyzn = det(A)"
   ]
  },
  {
   "cell_type": "markdown",
   "id": "c909d41a-7b70-45c7-972c-dcee0f579724",
   "metadata": {
    "tags": []
   },
   "source": [
    "Pod zmienną **suma_A** podstaw sumę elementów znajdujących się w pierwszym i ostatnim wierszu oraz pierwszej i ostatniej kolumnie."
   ]
  },
  {
   "cell_type": "markdown",
   "id": "e6d5233a-494b-4c58-bed1-5b69e7e3fdf0",
   "metadata": {},
   "source": [
    "*Tutaj mam trzy pomysły:*"
   ]
  },
  {
   "cell_type": "markdown",
   "id": "53da5056-cda3-4e4a-8cce-3eefc7caa9ea",
   "metadata": {},
   "source": [
    "#####  ***Pomysł 1.***  \n",
    "*Posumować dwa rzędy i dwie kolumny i odjąć wyrażenia na rogach, ponieważ w takiej sumie każdy \"róg\" bierzemy dwukrotnie.* "
   ]
  },
  {
   "cell_type": "code",
   "execution_count": 9,
   "id": "18d221e2-e6e9-4f2c-b264-3a9c9535dc32",
   "metadata": {},
   "outputs": [
    {
     "name": "stdout",
     "output_type": "stream",
     "text": [
      "\n",
      "sumaA_1 =\n",
      "\n",
      "   136\n",
      "\n"
     ]
    }
   ],
   "source": [
    "sumaA_1 = sum(A(1, :), \"all\") + sum(A(end, :), \"all\") + sum(A(:, 1), \"all\") + sum(A(:, end), \"all\") ...\n",
    "- A(1, 1) - A(1, end) - A(end, 1) - A(end, end)"
   ]
  },
  {
   "cell_type": "markdown",
   "id": "9f3159cd-0499-454a-bfda-56542de8d7bf",
   "metadata": {},
   "source": [
    "##### ***Pomysł 2.***  \n",
    "*Zsumować wszystkie elementy A i odjąć od nich sumę elementów podmacierzy B, będącą środkiem macierzy A bez obwodu (pomysł trochę insporowany liczeniem różnicy pól figur).*"
   ]
  },
  {
   "cell_type": "code",
   "execution_count": 10,
   "id": "219d7981-5576-47e5-8b72-1d5079dac373",
   "metadata": {},
   "outputs": [
    {
     "name": "stdout",
     "output_type": "stream",
     "text": [
      "\n",
      "B =\n",
      "\n",
      "     9     0     0     3     6     2     8\n",
      "     9     8     2     7     6     8     5\n",
      "     4     9     0     7     1     2     5\n",
      "     1     7     8     4     4     3     2\n",
      "     4     7     6     4     9     1     7\n",
      "     9     3     3     6     3     2     7\n",
      "     7     6     9     7     5     6     3\n",
      "\n"
     ]
    }
   ],
   "source": [
    "B = A([2:end-1], [2:end-1])"
   ]
  },
  {
   "cell_type": "code",
   "execution_count": 11,
   "id": "6b82f3fb-8781-4193-ae38-4f44662242c1",
   "metadata": {},
   "outputs": [
    {
     "name": "stdout",
     "output_type": "stream",
     "text": [
      "\n",
      "ans =\n",
      "\n",
      "     7     7\n",
      "\n"
     ]
    }
   ],
   "source": [
    "size(B)"
   ]
  },
  {
   "cell_type": "code",
   "execution_count": 12,
   "id": "30970b95-96f9-4213-b4ac-5d5eada32bf3",
   "metadata": {},
   "outputs": [
    {
     "name": "stdout",
     "output_type": "stream",
     "text": [
      "\n",
      "suma_A_2 =\n",
      "\n",
      "   136\n",
      "\n"
     ]
    }
   ],
   "source": [
    "sum_A_all = sum(A, 'all');\n",
    "sum_A_without_border = sum(B, 'all');\n",
    "suma_A_2 = sum_A_all - sum_A_without_border"
   ]
  },
  {
   "cell_type": "markdown",
   "id": "a7a689cd-e376-40c1-9527-bdd446735d7b",
   "metadata": {},
   "source": [
    "##### ***Pomysł 3.***  \n",
    "*Zamiast wyciągać środek, liczyć sumę i późniejsze sumy odejmować, można ów środke **wyzerować**, wówczas suma całej matrycy będzie de facto sumą cyfr na obwodzie, albowiem zera wewnątrz nie zmienią sumy.*"
   ]
  },
  {
   "cell_type": "code",
   "execution_count": 13,
   "id": "4947927a-9285-43c7-ab8a-8cf3e6f1a424",
   "metadata": {},
   "outputs": [
    {
     "name": "stdout",
     "output_type": "stream",
     "text": [
      "\n",
      "A_copy =\n",
      "\n",
      "     8     1     6     7     4     2     8     3     0\n",
      "     9     0     0     0     0     0     0     0     0\n",
      "     1     0     0     0     0     0     0     0     5\n",
      "     9     0     0     0     0     0     0     0     7\n",
      "     0     0     0     0     0     0     0     0     1\n",
      "     2     0     0     0     0     0     0     0     5\n",
      "     5     0     0     0     0     0     0     0     4\n",
      "     9     0     0     0     0     0     0     0     0\n",
      "     9     9     1     0     7     2     4     5     3\n",
      "\n"
     ]
    }
   ],
   "source": [
    "A_copy = A;\n",
    "A_copy([2:end-1], [2:end-1]) = 0"
   ]
  },
  {
   "cell_type": "code",
   "execution_count": 14,
   "id": "22423c30-6390-40a0-a159-ecde3c8584dd",
   "metadata": {},
   "outputs": [
    {
     "name": "stdout",
     "output_type": "stream",
     "text": [
      "\n",
      "suma_A_3 =\n",
      "\n",
      "   136\n",
      "\n"
     ]
    }
   ],
   "source": [
    "suma_A_3 = sum(A_copy, 'all')"
   ]
  },
  {
   "cell_type": "markdown",
   "id": "1ad207f3-9dbc-4029-9b4c-a803bab60740",
   "metadata": {},
   "source": [
    "*Jak widać, wszystkie trzy pomysły przysłowiowo \"dają radę\". Innym pomysłem było zagnieżdżenie pętli `for` jedna w drugiej i sprawdzanie po indeksach czy liczbę należy dodać do sumy, ale nie jesteśmy w podstawówce:)*"
   ]
  },
  {
   "cell_type": "markdown",
   "id": "e4e2f5d5-889c-470f-bcc4-0e9ef19bd3b3",
   "metadata": {},
   "source": [
    "### Zadanie 3."
   ]
  },
  {
   "cell_type": "markdown",
   "id": "5828311d-edba-489e-a16d-bf8c5a75ea85",
   "metadata": {},
   "source": [
    "Zdefiniuj funkcję **matwekt()**, której argumentami są macierz prostokątna *A*, wektor kolumnowy *b* oraz liczba naturalna *n*, a zwracaną wartością wektor stałych macierz powstała przez dodanie do *n*-tej kolumny macierzy *A* wektora *b*. Zakładamy, że wymiary macierzy *A* i wektora *b* są zgodne."
   ]
  },
  {
   "cell_type": "markdown",
   "id": "d86775e6-6b3d-49af-9fad-49ad97a103e6",
   "metadata": {},
   "source": [
    "*Napisana przeze mnie funkcja __matwekt()__ znajduje się w pliku `matwekt.m` w tym folderze.*"
   ]
  },
  {
   "cell_type": "code",
   "execution_count": 15,
   "id": "65733ad0-7389-4619-8aec-2c46e8a83049",
   "metadata": {},
   "outputs": [
    {
     "name": "stdout",
     "output_type": "stream",
     "text": [
      "\n",
      "test_matrix =\n",
      "\n",
      "    17    24     1     8    15\n",
      "    23     5     7    14    16\n",
      "     4     6    13    20    22\n",
      "    10    12    19    21     3\n",
      "    11    18    25     2     9\n",
      "\n"
     ]
    }
   ],
   "source": [
    "test_matrix = magic(5)"
   ]
  },
  {
   "cell_type": "code",
   "execution_count": 16,
   "id": "1c686a1f-696b-49ca-a3b7-623e9d1a435c",
   "metadata": {},
   "outputs": [
    {
     "name": "stdout",
     "output_type": "stream",
     "text": [
      "\n",
      "test_vector =\n",
      "\n",
      "    16\n",
      "    79\n",
      "    31\n",
      "    52\n",
      "    16\n",
      "\n"
     ]
    }
   ],
   "source": [
    "test_vector = floor(rand(5, 1)*99.999)"
   ]
  },
  {
   "cell_type": "code",
   "execution_count": 17,
   "id": "f55b4e41-625c-4382-ace5-7d0489a3b603",
   "metadata": {},
   "outputs": [
    {
     "name": "stdout",
     "output_type": "stream",
     "text": [
      "\n",
      "test_col =\n",
      "\n",
      "     4\n",
      "\n"
     ]
    }
   ],
   "source": [
    "test_col = floor(rand()*4.999) + 1"
   ]
  },
  {
   "cell_type": "code",
   "execution_count": 18,
   "id": "e51f4898-1cd4-4c7e-be36-413878ad380a",
   "metadata": {},
   "outputs": [
    {
     "name": "stdout",
     "output_type": "stream",
     "text": [
      "\n",
      "ans =\n",
      "\n",
      "    17    24     1    24    15\n",
      "    23     5     7    93    16\n",
      "     4     6    13    51    22\n",
      "    10    12    19    73     3\n",
      "    11    18    25    18     9\n",
      "\n"
     ]
    }
   ],
   "source": [
    "matwekt(test_matrix, test_vector, test_col)"
   ]
  },
  {
   "cell_type": "markdown",
   "id": "0e0f9992-763a-4064-8800-23caf2cb58f8",
   "metadata": {},
   "source": [
    "### **Zadanie 4.**"
   ]
  },
  {
   "cell_type": "markdown",
   "id": "270000a9-3122-4d4d-91f9-6c783b92fd50",
   "metadata": {},
   "source": [
    " Zdefiniuj funkcję **wektory()**, której argumentami są dwa wektory **tej samej długości** *x, y*, zwracaną wartością wektor stałych logicznych *z* powstały poprzez porównanie współrzędnych wektorów *x, y*."
   ]
  },
  {
   "cell_type": "markdown",
   "id": "2d33ccfa-c64a-460e-b83a-891f56bd5f96",
   "metadata": {},
   "source": [
    "*Napisana przeze mnie funkcja __wektory()__ znajduje się w pliku `wektory.m` w tym folderze.*"
   ]
  },
  {
   "cell_type": "markdown",
   "id": "ee866a07-c696-4dc6-9ea1-d704c0c9f887",
   "metadata": {},
   "source": [
    "Sprawdź działanie funkcji dla $x=[1, 2, 3], y=[2, 2, 2]$."
   ]
  },
  {
   "cell_type": "code",
   "execution_count": 19,
   "id": "0e7e9089-ec41-4ac2-a4cd-a9a63922e83a",
   "metadata": {},
   "outputs": [],
   "source": [
    "test_vector1 = [1 2 3];\n",
    "test_vector2 = [2 2 3];"
   ]
  },
  {
   "cell_type": "code",
   "execution_count": 20,
   "id": "c3d49439-bc09-473c-9098-91f9db2673d2",
   "metadata": {},
   "outputs": [
    {
     "name": "stdout",
     "output_type": "stream",
     "text": [
      "\n",
      "ans =\n",
      "\n",
      "  1x3 logical array\n",
      "\n",
      "   0   1   1\n",
      "\n"
     ]
    }
   ],
   "source": [
    "wektory(test_vector1, test_vector2)"
   ]
  },
  {
   "cell_type": "markdown",
   "id": "54269471-2bae-450c-a004-9ba8cfeecf78",
   "metadata": {},
   "source": [
    "### **Zadanie 5.**"
   ]
  },
  {
   "cell_type": "markdown",
   "id": "3ad816d5-c822-4adc-a9f6-2db0cfe49b6f",
   "metadata": {},
   "source": [
    "Narysuj wykres funkcji $z(x, y) = sin(x) + cos(y) - xy$ dla dziedziny $[-2, 2] \\times [-3, 3]$."
   ]
  },
  {
   "cell_type": "code",
   "execution_count": 21,
   "id": "389d6728-4281-4e12-abf3-97169d3fb25b",
   "metadata": {},
   "outputs": [],
   "source": [
    "step = 1/10;"
   ]
  },
  {
   "cell_type": "code",
   "execution_count": 22,
   "id": "e26ec90e-93c8-42a3-b83e-afa8a3dd1665",
   "metadata": {},
   "outputs": [],
   "source": [
    "[x,y] = meshgrid(-2:step:2, -3:step:3);"
   ]
  },
  {
   "cell_type": "code",
   "execution_count": 23,
   "id": "aa445c1b-35d8-464a-9d6e-99f0ccfc20d6",
   "metadata": {},
   "outputs": [],
   "source": [
    "z = sin(x) + cos(y) - x.*y;"
   ]
  },
  {
   "cell_type": "code",
   "execution_count": 24,
   "id": "f925c173-5456-4ad5-9c7d-468a0b78c6ea",
   "metadata": {},
   "outputs": [
    {
     "data": {
      "image/png": "[encoded data removed]",
      "text/plain": [
       "<IPython.core.display.Image object>"
      ]
     },
     "metadata": {},
     "output_type": "display_data"
    }
   ],
   "source": [
    "mesh(x, y, z)"
   ]
  },
  {
   "cell_type": "markdown",
   "id": "d97ae670-8d2d-4272-8c5a-8bf86bfb2f8b",
   "metadata": {},
   "source": [
    "### **Zadanie 6.**"
   ]
  },
  {
   "cell_type": "markdown",
   "id": "f3895003-7fed-4f92-8cb2-440894dfc139",
   "metadata": {},
   "source": [
    "Napisz skryp, który da odpowiedź na pytanie, ile początkowych wyrazów ciągu $a(n) = n + \\frac{1}{n}$ należy zsumować, aby suma wyrazów nie przekroczyła 1000."
   ]
  },
  {
   "cell_type": "markdown",
   "id": "159e2af5-771f-43d1-a549-dfe57b5a5a96",
   "metadata": {},
   "source": [
    "##### ***Pomysł 1.***"
   ]
  },
  {
   "cell_type": "markdown",
   "id": "88f6c794-e4c3-4ab7-92e4-7847e3cc6112",
   "metadata": {},
   "source": [
    "*Prosta pętla `while`, która zatrzyma się, gdy `suma_wyrazow` przekroczy 1000.*"
   ]
  },
  {
   "cell_type": "code",
   "execution_count": 25,
   "id": "e55b641c-7aae-444e-880a-f1a330641446",
   "metadata": {},
   "outputs": [],
   "source": [
    "ciag = @(n) n + 1/n;"
   ]
  },
  {
   "cell_type": "code",
   "execution_count": 26,
   "id": "66282f10-d2c0-47a4-9ca5-94237a8357ce",
   "metadata": {},
   "outputs": [],
   "source": [
    "suma_wyrazow = 0;\n",
    "wyrazy = [];\n",
    "iterator = 0;\n",
    "\n",
    "while suma_wyrazow < 1000\n",
    "    iterator = iterator + 1;\n",
    "    wyraz = ciag(iterator);\n",
    "    suma_wyrazow = suma_wyrazow + wyraz;\n",
    "    wyrazy = [wyrazy, suma_wyrazow];\n",
    "end"
   ]
  },
  {
   "cell_type": "code",
   "execution_count": 27,
   "id": "a579c356-483b-400d-bef6-f941a0055339",
   "metadata": {},
   "outputs": [
    {
     "name": "stdout",
     "output_type": "stream",
     "text": [
      "\n",
      "iterator =\n",
      "\n",
      "    45\n",
      "\n"
     ]
    }
   ],
   "source": [
    "iterator"
   ]
  },
  {
   "cell_type": "markdown",
   "id": "5b0f173f-86da-4f30-bdf7-0883d94febfd",
   "metadata": {},
   "source": [
    "*`iterator` mówi nam, że ten wyraz (w kolejności, licząc od 1, `iterator` to indekser wyrazów) był tym, który spowował, że `suma_wyrazow` przekroczyla 1000 (warunek pętli `while`). Oznacza to, że odpowiedzią na nasze pytanie jest `iterator - 1` - suma tylu pierwszych wyrazów nie przekracza 1000.*"
   ]
  },
  {
   "cell_type": "code",
   "execution_count": 28,
   "id": "740bfe3e-c49d-4450-bf41-884a52c90b0f",
   "metadata": {},
   "outputs": [
    {
     "name": "stdout",
     "output_type": "stream",
     "text": [
      "\n",
      "zad_6_ans =\n",
      "\n",
      "    44\n",
      "\n"
     ]
    }
   ],
   "source": [
    "zad_6_ans = iterator - 1"
   ]
  },
  {
   "cell_type": "markdown",
   "id": "ca4d4151-7822-4518-bc56-8f952d5a05d5",
   "metadata": {},
   "source": [
    "*Poniżej wykres sumy $a(n)$ dla lepszego zwizualizowania tempa wzorstu.*"
   ]
  },
  {
   "cell_type": "code",
   "execution_count": 29,
   "id": "9bdc74b2-20c1-4dfe-a04c-16ab81580061",
   "metadata": {},
   "outputs": [
    {
     "data": {
      "image/png": "[encoded data removed]",
      "text/plain": [
       "<IPython.core.display.Image object>"
      ]
     },
     "metadata": {},
     "output_type": "display_data"
    }
   ],
   "source": [
    "plot(1:iterator, wyrazy, 'r.'); \n",
    "title(\"Suma kolejnych wyrazów ciągu a(n)\");\n",
    "grid on;\n",
    "yline(1000);"
   ]
  },
  {
   "cell_type": "markdown",
   "id": "6b2acd4c-638e-4da1-857e-24b50a7522d3",
   "metadata": {},
   "source": [
    "##### ***Pomysł 2.***"
   ]
  },
  {
   "cell_type": "markdown",
   "id": "66ef804a-33af-4bde-8eea-a4b93238ef5c",
   "metadata": {},
   "source": [
    "*Oszacować wynik (korzystając np. z Command Window). Ja osobiście używam Jupytera więc odpalam komórki.*"
   ]
  },
  {
   "cell_type": "code",
   "execution_count": 30,
   "id": "f3f4a389-5486-4409-8beb-c53db2d38dab",
   "metadata": {},
   "outputs": [
    {
     "name": "stdout",
     "output_type": "stream",
     "text": [
      "\n",
      "ans =\n",
      "\n",
      "   1.0394e+03\n",
      "\n"
     ]
    }
   ],
   "source": [
    "sum(arrayfun(ciag, 1:45))"
   ]
  },
  {
   "cell_type": "code",
   "execution_count": 31,
   "id": "41d5d9cd-d3ee-4a1d-8889-0016765329b0",
   "metadata": {},
   "outputs": [
    {
     "name": "stdout",
     "output_type": "stream",
     "text": [
      "\n",
      "ans =\n",
      "\n",
      "  994.3727\n",
      "\n"
     ]
    }
   ],
   "source": [
    "sum(arrayfun(ciag, 1:44))"
   ]
  },
  {
   "cell_type": "markdown",
   "id": "a6e8fa9a-94a8-4ebf-baf4-da84498c184f",
   "metadata": {},
   "source": [
    "*Jak widać, suma 44 wyrazów nie przekracza 1000, a suma 45 już tak.*"
   ]
  },
  {
   "cell_type": "markdown",
   "id": "9a6abde3-cc96-490f-a35e-20468c04a038",
   "metadata": {},
   "source": [
    "### **Zadanie 7.**"
   ]
  },
  {
   "cell_type": "markdown",
   "id": "72ef4a96-909b-4f06-97d5-1e20f1162238",
   "metadata": {},
   "source": [
    "Zapisz skrypt służący do symulacji rzutu monetą wykorzystujący funkcję `rand()`. Skrypt ma obliczać ile rzutów jest potrzebnych, do wyrzucenia 25 razy orła."
   ]
  },
  {
   "cell_type": "markdown",
   "id": "68488973-29da-49af-89be-3f1e2259c5ae",
   "metadata": {},
   "source": [
    "*Wykorzystamy fakt, że `rand` wypluwa zmienną z rozkładu jednostajnego z przedziału $(0, 1)$.  \n",
    "Do tego prosta funkcja `while`, która kończy się jak uzyskamy 25. orła.*"
   ]
  },
  {
   "cell_type": "code",
   "execution_count": 32,
   "id": "2645a4e1-a57e-4032-8a7d-bcab4bb701fd",
   "metadata": {},
   "outputs": [
    {
     "name": "stdout",
     "output_type": "stream",
     "text": [
      "\n",
      "rzuty =\n",
      "\n",
      "    44\n",
      "\n"
     ]
    }
   ],
   "source": [
    "ile_orlow = 0;\n",
    "prob = .5;\n",
    "rzuty = 0;\n",
    "\n",
    "while ile_orlow < 25\n",
    "    rzuty = rzuty + 1;\n",
    "    \n",
    "    if rand < prob\n",
    "        ile_orlow = ile_orlow + 1;\n",
    "    end\n",
    "end\n",
    "\n",
    "rzuty"
   ]
  },
  {
   "cell_type": "markdown",
   "id": "7f6447c3-a69a-4709-8c12-e64b7a2883f7",
   "metadata": {},
   "source": [
    "*Z prostej statystyki wynika, że przeprowadzając ten ekspetyment w nieskończoność, ilość rzutów będzie dążyła do 50*"
   ]
  },
  {
   "cell_type": "markdown",
   "id": "fcaf9ac8-0293-4048-ba42-f3bacea37958",
   "metadata": {},
   "source": [
    "*Krzysztof Stawarz  \n",
    "Kraków, 9.03.2023*"
   ]
  }
 ],
 "metadata": {
  "kernelspec": {
   "display_name": "Matlab",
   "language": "matlab",
   "name": "matlab"
  },
  "language_info": {
   "codemirror_mode": "octave",
   "file_extension": ".m",
   "help_links": [
    {
     "text": "MetaKernel Magics",
     "url": "https://metakernel.readthedocs.io/en/latest/source/README.html"
    }
   ],
   "mimetype": "text/x-octave",
   "name": "matlab",
   "version": "0.17.1"
  }
 },
 "nbformat": 4,
 "nbformat_minor": 5
}
